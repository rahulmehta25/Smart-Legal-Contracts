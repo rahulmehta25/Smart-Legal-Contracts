{
 "cells": [
  {
   "cell_type": "markdown",
   "metadata": {},
   "source": [
    "# ROI and Pricing Calculator"
   ]
  },
  {
   "cell_type": "code",
   "execution_count": null,
   "metadata": {},
   "source": [
    "import pandas as pd\n",
    "import numpy as np\n",
    "\n",
    "class ROICalculator:\n",
    "    def __init__(self, current_manual_cost, implementation_cost, annual_savings):\n",
    "        self.current_manual_cost = current_manual_cost\n",
    "        self.implementation_cost = implementation_cost\n",
    "        self.annual_savings = annual_savings\n",
    "    \n",
    "    def calculate_roi(self, years=3):\n",
    "        total_savings = self.annual_savings * years\n",
    "        roi = ((total_savings - self.implementation_cost) / self.implementation_cost) * 100\n",
    "        payback_period = self.implementation_cost / self.annual_savings\n",
    "        \n",
    "        return {\n",
    "            'Total Savings': total_savings,\n",
    "            'ROI (%)': roi,\n",
    "            'Payback Period (Years)': payback_period\n",
    "        }\n",
    "\n",
    "# Example Use Case Scenarios\n",
    "scenarios = [\n",
    "    {\n",
    "        'name': 'Small Business',\n",
    "        'manual_cost': 100000,\n",
    "        'implementation_cost': 50000,\n",
    "        'annual_savings': 75000\n",
    "    },\n",
    "    {\n",
    "        'name': 'Enterprise',\n",
    "        'manual_cost': 500000,\n",
    "        'implementation_cost': 250000,\n",
    "        'annual_savings': 350000\n",
    "    }\n",
    "]\n",
    "\n",
    "results = []\n",
    "for scenario in scenarios:\n",
    "    calculator = ROICalculator(\n",
    "        scenario['manual_cost'], \n",
    "        scenario['implementation_cost'], \n",
    "        scenario['annual_savings']\n",
    "    )\n",
    "    roi_data = calculator.calculate_roi()\n",
    "    roi_data['Scenario'] = scenario['name']\n",
    "    results.append(roi_data)\n",
    "\n",
    "roi_df = pd.DataFrame(results)\n",
    "print(roi_df.to_string(index=False))\n",
    "\n",
    "# Save results\n",
    "roi_df.to_csv('/Users/rahulmehta/Desktop/Test/demo/metrics/reports/roi_scenarios.csv', index=False)"
   ]
  }
 ],
 "metadata": {
  "kernelspec": {
   "display_name": "Python 3",
   "language": "python",
   "name": "python3"
  }
 },
 "nbformat": 4,
 "nbformat_minor": 2
}